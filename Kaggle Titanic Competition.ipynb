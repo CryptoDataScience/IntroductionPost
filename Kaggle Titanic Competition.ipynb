{
 "cells": [
  {
   "cell_type": "markdown",
   "id": "62fcae83",
   "metadata": {},
   "source": [
    "### Load Libraries"
   ]
  },
  {
   "cell_type": "code",
   "execution_count": 1,
   "id": "8a6cf40d",
   "metadata": {},
   "outputs": [],
   "source": [
    "import pandas as pd\n",
    "import seaborn as sns\n",
    "import matplotlib.pyplot as plt\n",
    "import numpy as np\n",
    "\n",
    "from sklearn.preprocessing import StandardScaler\n",
    "##SKLearn for Machine Model Tools\n",
    "\n",
    "from sklearn.model_selection import train_test_split # split  data into training and testing sets\n",
    "from sklearn.model_selection import GridSearchCV # cross validation\n",
    "from sklearn.metrics import confusion_matrix # creates a confusion matrix\n",
    "from sklearn.metrics import plot_confusion_matrix # draws a confusion matrix\n",
    "from sklearn.metrics import accuracy_score\n",
    "from sklearn.metrics import classification_report\n",
    "\n",
    "from sklearn.ensemble import RandomForestClassifier, AdaBoostClassifier, VotingClassifier\n",
    "import xgboost as xgb # XGBoost stuff\n"
   ]
  },
  {
   "cell_type": "markdown",
   "id": "69d60ac7",
   "metadata": {},
   "source": [
    "### Create Function to inspect DataFrame at high Level"
   ]
  },
  {
   "cell_type": "code",
   "execution_count": 2,
   "id": "d1af9b44",
   "metadata": {},
   "outputs": [],
   "source": [
    "def dataframe_overview(df):\n",
    "    print(\"DataFrame info:\")\n",
    "    print(\"--------------------\")\n",
    "    print(df.info())\n",
    "    print(\"\\nDescribe DataFrame:\")\n",
    "    print(\"---------------------------------------------\")\n",
    "    print(df.describe())\n",
    "    print(\"\\nCount(Distinct):\")\n",
    "    print(\"-------------------------\")\n",
    "    print(df.nunique())\n",
    "    print(f\"\\nNumber of observations: {df.shape[0]}\")\n",
    "    print(\"\\nData Types:\")\n",
    "    print(\"-----------\")\n",
    "    print(df.dtypes)\n",
    "    ##titanic_df_train.isna().sum()\n",
    "    print(\"\\nIsNASum:\")\n",
    "    print(\"-----------\")\n",
    "    print(df.isna().sum())\n"
   ]
  },
  {
   "cell_type": "markdown",
   "id": "b0177b92",
   "metadata": {},
   "source": [
    "# ML Step # 1: Problem Identification\n",
    "\n",
    "### Problem Definition: Predicting Life or Death in the RMS Titanic\n",
    "The Titanic was a luxury British steamship that sank on its maiden voyage after hitting an iceberg on April 1912. The ship had lifeboats, but not enough for everyone.\n",
    "Among the 2240 total passengers 1517 perished. And although there was some element of luck in getting on a lifeboat, some groups were more likely to get on a lifeboat than others.\n",
    "In this notebook we will try to create a model that determines whether or not someone was likely to survive using passenger data (ie name, age, gender, socio-economic class, etc) collected prior to embarking.\n"
   ]
  },
  {
   "cell_type": "markdown",
   "id": "230ef649",
   "metadata": {},
   "source": [
    "# ML Step # 2: Data Collection\n",
    "\n",
    "### Load the Test and Training file Kaggle provides"
   ]
  },
  {
   "cell_type": "code",
   "execution_count": 3,
   "id": "29ed5b1d",
   "metadata": {},
   "outputs": [],
   "source": [
    "titanic_df_train = pd.read_csv('train.csv') ##891\n",
    "titanic_df_test = pd.read_csv('test.csv') ##418\n",
    "\n",
    "##Combine the files to make Feature Engineering Easier\n",
    "\n",
    "\n",
    "#read sample submit file\n",
    "sample_submit_file = pd.read_csv('gender_submission.csv')\n",
    "\n",
    "\n",
    "concatenated_df = pd.concat([titanic_df_train, titanic_df_test], ignore_index=True)"
   ]
  },
  {
   "cell_type": "code",
   "execution_count": 4,
   "id": "ce454af3",
   "metadata": {},
   "outputs": [
    {
     "name": "stdout",
     "output_type": "stream",
     "text": [
      "DataFrame info:\n",
      "--------------------\n",
      "<class 'pandas.core.frame.DataFrame'>\n",
      "RangeIndex: 1309 entries, 0 to 1308\n",
      "Data columns (total 12 columns):\n",
      " #   Column       Non-Null Count  Dtype  \n",
      "---  ------       --------------  -----  \n",
      " 0   PassengerId  1309 non-null   int64  \n",
      " 1   Survived     891 non-null    float64\n",
      " 2   Pclass       1309 non-null   int64  \n",
      " 3   Name         1309 non-null   object \n",
      " 4   Sex          1309 non-null   object \n",
      " 5   Age          1046 non-null   float64\n",
      " 6   SibSp        1309 non-null   int64  \n",
      " 7   Parch        1309 non-null   int64  \n",
      " 8   Ticket       1309 non-null   object \n",
      " 9   Fare         1308 non-null   float64\n",
      " 10  Cabin        295 non-null    object \n",
      " 11  Embarked     1307 non-null   object \n",
      "dtypes: float64(3), int64(4), object(5)\n",
      "memory usage: 122.8+ KB\n",
      "None\n",
      "\n",
      "Describe DataFrame:\n",
      "---------------------------------------------\n",
      "       PassengerId    Survived       Pclass          Age        SibSp  \\\n",
      "count  1309.000000  891.000000  1309.000000  1046.000000  1309.000000   \n",
      "mean    655.000000    0.383838     2.294882    29.881138     0.498854   \n",
      "std     378.020061    0.486592     0.837836    14.413493     1.041658   \n",
      "min       1.000000    0.000000     1.000000     0.170000     0.000000   \n",
      "25%     328.000000    0.000000     2.000000    21.000000     0.000000   \n",
      "50%     655.000000    0.000000     3.000000    28.000000     0.000000   \n",
      "75%     982.000000    1.000000     3.000000    39.000000     1.000000   \n",
      "max    1309.000000    1.000000     3.000000    80.000000     8.000000   \n",
      "\n",
      "             Parch         Fare  \n",
      "count  1309.000000  1308.000000  \n",
      "mean      0.385027    33.295479  \n",
      "std       0.865560    51.758668  \n",
      "min       0.000000     0.000000  \n",
      "25%       0.000000     7.895800  \n",
      "50%       0.000000    14.454200  \n",
      "75%       0.000000    31.275000  \n",
      "max       9.000000   512.329200  \n",
      "\n",
      "Count(Distinct):\n",
      "-------------------------\n",
      "PassengerId    1309\n",
      "Survived          2\n",
      "Pclass            3\n",
      "Name           1307\n",
      "Sex               2\n",
      "Age              98\n",
      "SibSp             7\n",
      "Parch             8\n",
      "Ticket          929\n",
      "Fare            281\n",
      "Cabin           186\n",
      "Embarked          3\n",
      "dtype: int64\n",
      "\n",
      "Number of observations: 1309\n",
      "\n",
      "Data Types:\n",
      "-----------\n",
      "PassengerId      int64\n",
      "Survived       float64\n",
      "Pclass           int64\n",
      "Name            object\n",
      "Sex             object\n",
      "Age            float64\n",
      "SibSp            int64\n",
      "Parch            int64\n",
      "Ticket          object\n",
      "Fare           float64\n",
      "Cabin           object\n",
      "Embarked        object\n",
      "dtype: object\n",
      "\n",
      "IsNASum:\n",
      "-----------\n",
      "PassengerId       0\n",
      "Survived        418\n",
      "Pclass            0\n",
      "Name              0\n",
      "Sex               0\n",
      "Age             263\n",
      "SibSp             0\n",
      "Parch             0\n",
      "Ticket            0\n",
      "Fare              1\n",
      "Cabin          1014\n",
      "Embarked          2\n",
      "dtype: int64\n"
     ]
    }
   ],
   "source": [
    "dataframe_overview(concatenated_df)"
   ]
  },
  {
   "cell_type": "markdown",
   "id": "0627d4ed",
   "metadata": {},
   "source": [
    "\n",
    "# ML Step #3: Data Preparation, Feature Engineering\n",
    "###### Variable by Variable\n",
    "\n",
    "\n",
    "#### Ensuring Data Is Tidy\n",
    "#### Handling Missing Data\n",
    "#### Label Encoding\n",
    "#### Transforming Continuous variables\n",
    "#### Recoding Categorical Variables\n",
    "\n"
   ]
  },
  {
   "cell_type": "markdown",
   "id": "a0af4a85",
   "metadata": {},
   "source": [
    "#### Variable #1:  Name\n",
    "\n",
    "From this variable we will extract the title.  For titles that are less common we label as \"TitleOfRespect\" as they follow this trend of having a title of status, due to occupation or birth.  "
   ]
  },
  {
   "cell_type": "code",
   "execution_count": 5,
   "id": "638c7e1e",
   "metadata": {},
   "outputs": [],
   "source": [
    "# Extracting Title from Name from it's postion in relation to delimitting comma, and period\n",
    "\n",
    "concatenated_df['Title'] = concatenated_df['Name'].apply(lambda x: x.split(', ')[1].split('.')[0])"
   ]
  },
  {
   "cell_type": "code",
   "execution_count": 6,
   "id": "7d0048d9",
   "metadata": {},
   "outputs": [],
   "source": [
    "title_counts = concatenated_df['Title'].value_counts()"
   ]
  },
  {
   "cell_type": "code",
   "execution_count": 7,
   "id": "f8930c8c",
   "metadata": {},
   "outputs": [],
   "source": [
    "##Grouping the Infrequent Titles- All are titles of higher class, or achieved status\n",
    "\n",
    "concatenated_df['Title'] = concatenated_df['Title'].apply(lambda x: x if title_counts[x] > 10 else 'TitleOfRespect')"
   ]
  },
  {
   "cell_type": "markdown",
   "id": "a8bd4cfc",
   "metadata": {},
   "source": [
    "#### Variable #2:  Gender\n",
    "\n",
    "Made the field numeric"
   ]
  },
  {
   "cell_type": "code",
   "execution_count": 8,
   "id": "fd876ef0",
   "metadata": {},
   "outputs": [],
   "source": [
    "concatenated_df['Sex'] = concatenated_df.Sex.apply(lambda x: 0 if x == \"female\" else 1)"
   ]
  },
  {
   "cell_type": "markdown",
   "id": "b9eead3c",
   "metadata": {},
   "source": [
    "#### Variable #3:  Pclass\n",
    "\n",
    "No transformation necessary"
   ]
  },
  {
   "cell_type": "markdown",
   "id": "7fcc172b",
   "metadata": {},
   "source": [
    "#### Variable #4:  Age\n",
    "\n",
    "Imputed missing Age values by calculating median Age by Class.\n",
    "Created Categorical Variable by what Age Group they were in.(Children Teens, Young Adults etc)\n"
   ]
  },
  {
   "cell_type": "code",
   "execution_count": 9,
   "id": "8e0c0450",
   "metadata": {},
   "outputs": [],
   "source": [
    "##Impute missing Age fields by assigning median Age for their Passenger Class\n",
    "\n",
    "AgeByPclass = concatenated_df.groupby(['Pclass']).median('Age')['Age'].to_dict()\n",
    "\n",
    "concatenated_df['Age'] = concatenated_df.apply(lambda x: x.Age if not pd.isna(x.Age) else AgeByPclass[x.Pclass],axis = 1)\n"
   ]
  },
  {
   "cell_type": "code",
   "execution_count": 10,
   "id": "0f267a22",
   "metadata": {},
   "outputs": [
    {
     "data": {
      "image/png": "[encoded data removed]",
      "text/plain": [
       "<Figure size 432x288 with 1 Axes>"
      ]
     },
     "metadata": {
      "needs_background": "light"
     },
     "output_type": "display_data"
    }
   ],
   "source": [
    "\n",
    "\n",
    "##concatenated_df[concatenated_df['Fare'] < 100]\n",
    "\n",
    "\n",
    "sns.histplot(concatenated_df['Age'][concatenated_df['Age'] < 100], bins=100, kde=True)  # KDE line adds a density plot\n",
    "plt.xlabel('Age')  # Replace with your column name\n",
    "plt.ylabel('Frequency')\n",
    "plt.title('Frequency Distribution of Age')  # Replace with your column title\n",
    "plt.show()"
   ]
  },
  {
   "cell_type": "code",
   "execution_count": 11,
   "id": "51ddcca7",
   "metadata": {},
   "outputs": [],
   "source": [
    "def bucketAges(value):\n",
    "    if value < 13:\n",
    "        return 'C'\n",
    "    elif 13 <= value < 20:\n",
    "        return 'T'\n",
    "    elif  20 <= value < 35:\n",
    "        return 'YA'\n",
    "    elif  35 <= value < 50:\n",
    "        return 'A'\n",
    "    else:\n",
    "        return 'E'"
   ]
  },
  {
   "cell_type": "code",
   "execution_count": 12,
   "id": "f2902e9d",
   "metadata": {},
   "outputs": [],
   "source": [
    "concatenated_df['AgeCategory'] = concatenated_df['Age'].apply(bucketAges)"
   ]
  },
  {
   "cell_type": "markdown",
   "id": "b45eb9dd",
   "metadata": {},
   "source": [
    "#### Variable #5 and #6: Parch and Sibsp\n",
    "\n",
    "These numbers represent the number of parents or children, and the number of siblings. By adding them the result is the number of family members they had on board"
   ]
  },
  {
   "cell_type": "code",
   "execution_count": 13,
   "id": "029d480f",
   "metadata": {},
   "outputs": [],
   "source": [
    "concatenated_df['FamilyOnBoard'] = concatenated_df['Parch'] + concatenated_df['SibSp']"
   ]
  },
  {
   "cell_type": "markdown",
   "id": "1287196d",
   "metadata": {},
   "source": [
    "#### Variable #7 Ticket\n",
    "\n",
    "This variable was transformed to create several new variables.\n",
    "\n",
    "TicketCount was created by using the number of passengers who have the same ticket code.\n",
    "IsTicketAlone was used to denote whether or not the ticket was only attributed to a single passenger.\n",
    "Higher Level Ticket Code Groups were created based on the Prefix of the ticket"
   ]
  },
  {
   "cell_type": "code",
   "execution_count": 14,
   "id": "22ab7b19",
   "metadata": {},
   "outputs": [],
   "source": [
    "ticket_count = concatenated_df['Ticket'].value_counts()"
   ]
  },
  {
   "cell_type": "code",
   "execution_count": 15,
   "id": "c555ff0a",
   "metadata": {},
   "outputs": [],
   "source": [
    "concatenated_df['isTicketAlone'] = concatenated_df['Ticket'].apply(lambda x: 0 if ticket_count[str(x)]<=1 else 1)"
   ]
  },
  {
   "cell_type": "code",
   "execution_count": 16,
   "id": "073cc8dd",
   "metadata": {},
   "outputs": [],
   "source": [
    "concatenated_df['CountOfTickets'] = concatenated_df['Ticket'].apply(lambda x: ticket_count[str(x)])"
   ]
  },
  {
   "cell_type": "code",
   "execution_count": 17,
   "id": "3dfe54ac",
   "metadata": {},
   "outputs": [],
   "source": [
    "concatenated_df['TicketCode'] = concatenated_df['Ticket'].apply(lambda x: str(x[:1]))\n"
   ]
  },
  {
   "cell_type": "code",
   "execution_count": 18,
   "id": "31d73e85",
   "metadata": {},
   "outputs": [],
   "source": [
    "##Found in another Kaggle notebook\n",
    "###https://www.kaggle.com/code/maciejsabalski/titanic-eda-feature-engeneering-and-ml/notebook\n",
    "\n",
    "##Reducing the amount of ticket categories\n",
    "##Look at Prefix\n",
    "\n",
    "##Common ticket prefixes are left alone\n",
    "##Uncommon ticketprefixes are either given LowSurvial or HighSurvival\n",
    "\n",
    "\n",
    "\n",
    "Tsame = ['1', '2', '3', 'S', 'P', 'C', 'A']\n",
    "Tlow = ['4','5','6','7','8','L','W' ]\n",
    "# 1, 2, 3, S, P, C, A - Leave as is\n",
    "# 4,5,6,7,8,L,W - Low Survival\n",
    "# Rest - High Survival\n",
    "def groupTicket(ticket):\n",
    "    if ticket in Tsame:\n",
    "        return ticket\n",
    "    elif ticket in Tlow:\n",
    "        return 'Lo'\n",
    "    else:\n",
    "        return 'Hi'"
   ]
  },
  {
   "cell_type": "code",
   "execution_count": 19,
   "id": "dc78e155",
   "metadata": {},
   "outputs": [],
   "source": [
    "concatenated_df['TicketCodeShort'] = concatenated_df['TicketCode'].apply(lambda x: groupTicket(x))"
   ]
  },
  {
   "cell_type": "markdown",
   "id": "3316095d",
   "metadata": {},
   "source": [
    "#### Variable #8 Fare\n",
    "\n",
    "Fare prices fall into certain price levels, which also coincide with percentiles, we just use that trend to bucket the Fares into groups"
   ]
  },
  {
   "cell_type": "code",
   "execution_count": 20,
   "id": "993745ac",
   "metadata": {},
   "outputs": [],
   "source": [
    "FareByPclass = concatenated_df.groupby(['Pclass']).median('Fare')['Fare'].to_dict()\n",
    "FareByPclass\n",
    "\n",
    "concatenated_df['Fare'] = concatenated_df.apply(lambda x: x.Fare if not pd.isna(x.Fare) else FareByPclass[x.Pclass],axis = 1)"
   ]
  },
  {
   "cell_type": "code",
   "execution_count": 21,
   "id": "8ec0112f",
   "metadata": {},
   "outputs": [
    {
     "name": "stdout",
     "output_type": "stream",
     "text": [
      "Q1 (25th percentile): 7.8958\n",
      "Median (50th percentile): 14.4542\n",
      "Q3 (75th percentile): 31.275\n"
     ]
    }
   ],
   "source": [
    "Q1 = concatenated_df['Fare'].quantile(0.25)\n",
    "Q2 = concatenated_df['Fare'].quantile(0.5)  # This is also the median\n",
    "Q3 = concatenated_df['Fare'].quantile(0.75)\n",
    "\n",
    "print(f\"Q1 (25th percentile): {Q1}\")\n",
    "print(f\"Median (50th percentile): {Q2}\")\n",
    "print(f\"Q3 (75th percentile): {Q3}\")"
   ]
  },
  {
   "cell_type": "code",
   "execution_count": 22,
   "id": "3b72b2b3",
   "metadata": {},
   "outputs": [
    {
     "data": {
      "image/png": "[encoded data removed]",
      "text/plain": [
       "<Figure size 432x288 with 1 Axes>"
      ]
     },
     "metadata": {
      "needs_background": "light"
     },
     "output_type": "display_data"
    }
   ],
   "source": [
    "\n",
    "\n",
    "##concatenated_df[concatenated_df['Fare'] < 100]\n",
    "\n",
    "\n",
    "sns.histplot(concatenated_df['Fare'][concatenated_df['Fare'] < 300], bins=100, kde=True)  # KDE line adds a density plot\n",
    "plt.xlabel('Fare')  # Replace with your column name\n",
    "plt.ylabel('Frequency')\n",
    "plt.title('Frequency Distribution of Fare')  # Replace with your column title\n",
    "plt.show()"
   ]
  },
  {
   "cell_type": "code",
   "execution_count": 23,
   "id": "2958c084",
   "metadata": {},
   "outputs": [],
   "source": [
    "def MakeFareCategory(value):\n",
    "    if value < 7.9:\n",
    "        return 'V'\n",
    "    elif 7.9 <= value < 14.5:\n",
    "        return 'C'\n",
    "    elif value < 31.275:\n",
    "        return 'B'\n",
    "    else:\n",
    "        return 'A'"
   ]
  },
  {
   "cell_type": "code",
   "execution_count": 24,
   "id": "22442c99",
   "metadata": {},
   "outputs": [],
   "source": [
    "concatenated_df['FareCategory'] = concatenated_df['Fare'].apply(MakeFareCategory)"
   ]
  },
  {
   "cell_type": "markdown",
   "id": "244fc51a",
   "metadata": {},
   "source": [
    "#### Variable #9 Cabin\n",
    "\n",
    " "
   ]
  },
  {
   "cell_type": "code",
   "execution_count": 25,
   "id": "583d467a",
   "metadata": {},
   "outputs": [],
   "source": [
    "concatenated_df['has_cabin'] = concatenated_df['Cabin'].apply(lambda x: 0 if pd.isna(x) else 1)\n",
    "concatenated_df['Cabin'].fillna('Unknown',inplace=True)"
   ]
  },
  {
   "cell_type": "code",
   "execution_count": 26,
   "id": "40a6ca18",
   "metadata": {},
   "outputs": [],
   "source": [
    "concatenated_df['CabinCode'] = concatenated_df['Cabin'].apply(lambda x:str(x)[0])"
   ]
  },
  {
   "cell_type": "code",
   "execution_count": 27,
   "id": "4ac73ace",
   "metadata": {},
   "outputs": [],
   "source": [
    "##Found in another Kaggle notebook\n",
    "###https://www.kaggle.com/code/maciejsabalski/titanic-eda-feature-engeneering-and-ml/notebook\n",
    "\n",
    "##Reducing the amount of cabin categories\n",
    "##Unknowns, based on their class get place in different existing groups, the group with only 1 prefix just gets lumped in the most popular prefix\n",
    "\n",
    "def change_cabin_letter(pclass,cabin_code):\n",
    "    if pclass == 1 and cabin_code == 'U':\n",
    "        return 'C'\n",
    "    elif pclass == 2 and cabin_code == 'U':\n",
    "        return 'D'\n",
    "    elif pclass == 3 and cabin_code == 'U':\n",
    "        return 'G'\n",
    "    elif cabin_code == 'T':\n",
    "        return 'C'\n",
    "    else:\n",
    "        return cabin_code"
   ]
  },
  {
   "cell_type": "code",
   "execution_count": 28,
   "id": "0c6d1715",
   "metadata": {},
   "outputs": [],
   "source": [
    "concatenated_df['CabinCode'] = concatenated_df.apply(lambda x: change_cabin_letter(x.Pclass,x.CabinCode),axis=1)"
   ]
  },
  {
   "cell_type": "code",
   "execution_count": 29,
   "id": "c3993cab",
   "metadata": {},
   "outputs": [],
   "source": [
    "# dropping unnecessary columns\n",
    "if 'has_cabin' in concatenated_df.columns:\n",
    "    concatenated_df = concatenated_df.drop(columns=['has_cabin'])\n",
    "    \n",
    "concatenated_df = concatenated_df.drop(columns = ['Cabin','Name'])"
   ]
  },
  {
   "cell_type": "markdown",
   "id": "2a399517",
   "metadata": {},
   "source": [
    "#### Variable #10 Embarked"
   ]
  },
  {
   "cell_type": "code",
   "execution_count": 30,
   "id": "5c21e502",
   "metadata": {},
   "outputs": [
    {
     "data": {
      "text/plain": [
       "'S'"
      ]
     },
     "execution_count": 30,
     "metadata": {},
     "output_type": "execute_result"
    }
   ],
   "source": [
    "embarked_mode = concatenated_df['Embarked'].mode()[0]\n",
    "embarked_mode"
   ]
  },
  {
   "cell_type": "code",
   "execution_count": 31,
   "id": "c7189364",
   "metadata": {},
   "outputs": [],
   "source": [
    "concatenated_df['Embarked'].fillna(embarked_mode,inplace = True)"
   ]
  },
  {
   "cell_type": "markdown",
   "id": "2cc35cfd",
   "metadata": {},
   "source": [
    "### Last Data Preparation Steps\n",
    "\n",
    "Dropping unused variables\n",
    "Creating Dummy variables\n",
    "Scaling variables\n",
    "\n",
    "Splitting up our Label, or variable that we are predicting, and the rest of our feature variables"
   ]
  },
  {
   "cell_type": "markdown",
   "id": "ab295942",
   "metadata": {},
   "source": [
    "### Split Tidy data into Dependent, Indepent Variables, Train and Test"
   ]
  },
  {
   "cell_type": "code",
   "execution_count": 32,
   "id": "82d1089b",
   "metadata": {},
   "outputs": [],
   "source": [
    "##concatenated_df['Survived'] = concatenated_df['Survived'].astype(int)\n",
    "\n",
    "\n",
    "ds_df = concatenated_df.drop(['PassengerId',\n",
    "                              'SibSp', 'Parch', 'Ticket',  'TicketCode'], axis=1).copy() # alternatively: X = df_no_missing.iloc[:,:-1]\n",
    "\n",
    "\n",
    "ds_df = pd.get_dummies(ds_df, columns=['Embarked', 'Title', 'TicketCodeShort', 'CabinCode', 'AgeCategory', 'FareCategory'])\n",
    "\n",
    "X_train = ds_df[~ds_df['Survived'].isna()]\n",
    "X_test = ds_df[ds_df['Survived'].isna()]\n",
    "y_train = ds_df['Survived'][~ds_df['Survived'].isna()].astype(int)\n",
    "X_train= X_train.drop(['Survived'], axis =1).copy()\n",
    "X_test= X_test.drop(['Survived'], axis =1).copy()\n",
    "\n",
    "from sklearn.preprocessing import StandardScaler\n",
    "scaler = StandardScaler()\n",
    "X_train = scaler.fit_transform(X_train)\n",
    "X_test = scaler.transform(X_test)\n",
    "\n"
   ]
  },
  {
   "cell_type": "markdown",
   "id": "08e207a5",
   "metadata": {},
   "source": [
    "# ML Step #4:  Model Selection\n",
    "\n",
    "### XGBoost, ADABoost, Random Forest, SVM, Voting Classifer\n",
    "\n",
    "\n",
    "\n",
    "\n",
    "\n",
    "\n",
    "\n",
    "\n",
    "# ML Step #5-7:  Model Training, Parameter Tuning, Model Evaluation\n",
    "\n",
    "### XGBoost\n"
   ]
  },
  {
   "cell_type": "code",
   "execution_count": 33,
   "id": "bdd89332",
   "metadata": {},
   "outputs": [
    {
     "name": "stdout",
     "output_type": "stream",
     "text": [
      "Fitting 5 folds for each of 1152 candidates, totalling 5760 fits\n",
      "{'gamma': 0.25, 'learning_rate': 0.1, 'max_depth': 4, 'n_estimators': 200, 'random_state': 0, 'reg_lambda': 10.0}\n"
     ]
    }
   ],
   "source": [
    "\n",
    "## NOTE: This code takes a few minutes to run, so I've commented it out.\n",
    "## Since I set seed=42, we'll get the same results anyway, and those are\n",
    "## coded into the next section...\n",
    "\n",
    "param_grid = {\n",
    "    'max_depth': [3, 4, 5, 6, 7, 8],\n",
    "    'n_estimators': range(50, 250, 50),\n",
    "    'learning_rate': [0.1, 0.01, 0.05],\n",
    "    'gamma': [0, 0.25, 0.5, 1.0],\n",
    "    'reg_lambda': [0, 1.0, 10.0, 100.0],\n",
    "    'random_state': [0]\n",
    "}\n",
    "\n",
    "optimal_params = GridSearchCV(\n",
    "    estimator=xgb.XGBClassifier(objective='binary:logistic', eval_metric=\"logloss\", seed=23, use_label_encoder=False),\n",
    "    param_grid=param_grid,\n",
    "    scoring = 'accuracy',\n",
    "    verbose=2,\n",
    "    n_jobs = 10,\n",
    "    cv = 5\n",
    ")\n",
    "\n",
    "optimal_params.fit(X_train, y_train)\n",
    "print(optimal_params.best_params_)\n",
    "\n"
   ]
  },
  {
   "cell_type": "code",
   "execution_count": 34,
   "id": "4d6d2dc2",
   "metadata": {},
   "outputs": [
    {
     "name": "stdout",
     "output_type": "stream",
     "text": [
      "Feature: 0, Score: 0.01158\n",
      "Feature: 1, Score: 0.02256\n",
      "Feature: 2, Score: 0.01033\n",
      "Feature: 3, Score: 0.00864\n",
      "Feature: 4, Score: 0.00723\n",
      "Feature: 5, Score: 0.00911\n",
      "Feature: 6, Score: 0.02367\n",
      "Feature: 7, Score: 0.01125\n",
      "Feature: 8, Score: 0.00613\n",
      "Feature: 9, Score: 0.01216\n",
      "Feature: 10, Score: 0.00521\n",
      "Feature: 11, Score: 0.00952\n",
      "Feature: 12, Score: 0.43186\n",
      "Feature: 13, Score: 0.00471\n",
      "Feature: 14, Score: 0.10054\n",
      "Feature: 15, Score: 0.03026\n",
      "Feature: 16, Score: 0.00746\n",
      "Feature: 17, Score: 0.00928\n",
      "Feature: 18, Score: 0.00825\n",
      "Feature: 19, Score: 0.00538\n",
      "Feature: 20, Score: 0.00000\n",
      "Feature: 21, Score: 0.00883\n",
      "Feature: 22, Score: 0.01218\n",
      "Feature: 23, Score: 0.01627\n",
      "Feature: 24, Score: 0.00635\n",
      "Feature: 25, Score: 0.00485\n",
      "Feature: 26, Score: 0.00897\n",
      "Feature: 27, Score: 0.00582\n",
      "Feature: 28, Score: 0.03952\n",
      "Feature: 29, Score: 0.00000\n",
      "Feature: 30, Score: 0.12211\n",
      "Feature: 31, Score: 0.00000\n",
      "Feature: 32, Score: 0.00000\n",
      "Feature: 33, Score: 0.00000\n",
      "Feature: 34, Score: 0.00818\n",
      "Feature: 35, Score: 0.00538\n",
      "Feature: 36, Score: 0.00000\n",
      "Feature: 37, Score: 0.00999\n",
      "Feature: 38, Score: 0.01642\n",
      "Feature: 39, Score: 0.00000\n"
     ]
    }
   ],
   "source": [
    "\n",
    "best_model = optimal_params.best_estimator_\n",
    "\n",
    "feature_importances = best_model.feature_importances_\n",
    "\n",
    "# Print the feature importances\n",
    "for i, v in enumerate(feature_importances):\n",
    "    print(f'Feature: {i}, Score: {v:.5f}')"
   ]
  },
  {
   "cell_type": "code",
   "execution_count": 35,
   "id": "74313043",
   "metadata": {},
   "outputs": [
    {
     "name": "stdout",
     "output_type": "stream",
     "text": [
      "Training Accuracy: 0.9023569023569024\n"
     ]
    }
   ],
   "source": [
    "from sklearn.metrics import accuracy_score\n",
    "\n",
    "# Get the best model\n",
    "##best_model = optimal_params.best_estimator_\n",
    "\n",
    "# Predict on the training data\n",
    "train_predictions = best_model.predict(X_train)\n",
    "\n",
    "# Calculate training accuracy\n",
    "training_accuracy = accuracy_score(y_train, train_predictions)\n",
    "\n",
    "# Print training accuracy\n",
    "print(\"Training Accuracy:\", training_accuracy)"
   ]
  },
  {
   "cell_type": "code",
   "execution_count": 36,
   "id": "a407bf03",
   "metadata": {},
   "outputs": [],
   "source": [
    "\n",
    "# Predict on the training data\n",
    "test_predictions = best_model.predict(X_test)\n",
    "\n",
    "optim_xg_submitfile = sample_submit_file"
   ]
  },
  {
   "cell_type": "code",
   "execution_count": 37,
   "id": "998b5e61",
   "metadata": {},
   "outputs": [],
   "source": [
    "##Code to create the submit file\n",
    "\n",
    "optim_xg_submitfile = pd.concat([sample_submit_file['PassengerId'], pd.Series(test_predictions)], axis=1)\n",
    "optim_xg_submitfile.rename(columns={optim_xg_submitfile.columns[1]: 'Survived'}, inplace=True)\n",
    "optim_xg_submitfile.to_csv('result_optimizedxgboost.csv', index=False)"
   ]
  },
  {
   "cell_type": "markdown",
   "id": "28c1a206",
   "metadata": {},
   "source": [
    "### ADABoost"
   ]
  },
  {
   "cell_type": "code",
   "execution_count": 38,
   "id": "722d058a",
   "metadata": {},
   "outputs": [
    {
     "name": "stdout",
     "output_type": "stream",
     "text": [
      "Best Hyperparameters for AdaBoost Classifier:\n",
      "{'learning_rate': 1.0, 'n_estimators': 10}\n",
      "Best score:  0.8305065595380077\n"
     ]
    }
   ],
   "source": [
    "from sklearn.ensemble import AdaBoostClassifier\n",
    "\n",
    "\n",
    "\n",
    "clf_adaboost = AdaBoostClassifier(random_state=42)\n",
    "\n",
    "# Define hyperparameter grid for AdaBoost\n",
    "param_grid = {\n",
    "    'n_estimators': [10, 50, 100, 200],\n",
    "    'learning_rate': [0.001, 0.01, 0.1, 0.5, 1.0]\n",
    "}\n",
    "\n",
    "# GridSearchCV setup\n",
    "grid_search = GridSearchCV(clf_adaboost, param_grid, cv=5, scoring='accuracy')\n",
    "\n",
    "# Fit the model\n",
    "grid_search.fit(X_train, y_train)\n",
    "\n",
    "# Getting the best AdaBoost model from the grid search\n",
    "clf_adaboost_optimized = grid_search.best_estimator_\n",
    "\n",
    "# Print the best hyperparameters found by GridSearchCV\n",
    "print(\"Best Hyperparameters for AdaBoost Classifier:\")\n",
    "print(grid_search.best_params_)\n",
    "print(\"Best score: \", grid_search.best_score_)\n",
    "\n",
    "# Optionally, print the detailed classification report\n",
    "best_ada = grid_search.best_estimator_\n",
    "test_predictions = best_ada.predict(X_test)\n",
    "\n",
    "\n",
    "\n",
    "test_predictions_str = test_predictions.astype(int).astype(str)\n",
    "\n",
    "optim_ada_submitfile = pd.concat([sample_submit_file['PassengerId'], pd.Series(test_predictions_str)], axis=1)\n",
    "optim_ada_submitfile.rename(columns={optim_ada_submitfile.columns[1]: 'Survived'}, inplace=True)\n",
    "\n",
    "\n",
    "optim_ada_submitfile.to_csv('result_optim_ada.csv', index=False)\n",
    "\n",
    "\n"
   ]
  },
  {
   "cell_type": "markdown",
   "id": "56d0d654",
   "metadata": {},
   "source": [
    "### Random Forest"
   ]
  },
  {
   "cell_type": "code",
   "execution_count": 39,
   "id": "e82c2825",
   "metadata": {},
   "outputs": [
    {
     "name": "stdout",
     "output_type": "stream",
     "text": [
      "Fitting 3 folds for each of 3456 candidates, totalling 10368 fits\n",
      "Best parameters found:  {'bootstrap': True, 'criterion': 'entropy', 'max_depth': 15, 'min_samples_leaf': 2, 'min_samples_split': 5, 'n_estimators': 25}\n",
      "Best score:  0.8529741863075196\n",
      "best Estimator:  RandomForestClassifier(criterion='entropy', max_depth=15, min_samples_leaf=2,\n",
      "                       min_samples_split=5, n_estimators=25)\n"
     ]
    }
   ],
   "source": [
    "from sklearn.ensemble import RandomForestClassifier\n",
    "from sklearn.model_selection import GridSearchCV\n",
    "from sklearn.datasets import load_iris\n",
    "from sklearn.metrics import classification_report\n",
    "\n",
    "\n",
    "# Define the parameter grid, including the 'criterion' parameter\n",
    "\n",
    "\n",
    "\n",
    "# Define the parameter grid, including the 'criterion' parameter\n",
    "param_grid = {\n",
    "    'criterion': ['gini', 'entropy'],  # Criterion for split quality\n",
    "    'n_estimators': [10,25,50,100, 150, 200, 250, 300],   # Number of trees in the forest\n",
    "    'max_depth': [None, 5,6,7,8,9,10, 13,15, 20,25, 30],   # Maximum depth of the tree\n",
    "    'min_samples_split': [2, 5, 10],   # Minimum number of samples required to split an internal node\n",
    "    'min_samples_leaf': [1, 2, 4],     # Minimum number of samples required at a leaf node\n",
    "    'bootstrap': [True, False]         # Whether bootstrap samples are used when building trees\n",
    "}\n",
    "\n",
    "# Initialize the classifier\n",
    "rf = RandomForestClassifier()\n",
    "\n",
    "# Initialize GridSearchCV with the classifier, parameter grid, and number of folds for cross-validation\n",
    "grid_search = GridSearchCV(estimator=rf, param_grid=param_grid, cv=3, n_jobs=-1, verbose=2)\n",
    "\n",
    "# Fit GridSearchCV\n",
    "grid_search.fit(X_train, y_train)\n",
    "\n",
    "# Print the best parameters and the corresponding score\n",
    "print(\"Best parameters found: \", grid_search.best_params_)\n",
    "print(\"Best score: \", grid_search.best_score_)\n",
    "\n",
    "# Optionally, print the detailed classification report\n",
    "best_rf = grid_search.best_estimator_\n",
    "print(\"best Estimator: \", best_rf)\n",
    "\n",
    "\n",
    "\n"
   ]
  },
  {
   "cell_type": "code",
   "execution_count": 40,
   "id": "2a82a287",
   "metadata": {},
   "outputs": [],
   "source": [
    "test_predictions = best_rf.predict(X_test)\n",
    "\n",
    "test_predictions_str = test_predictions.astype(int).astype(str)\n",
    "\n",
    "##Code to create the submit file\n",
    "\n",
    "optim_rf_submitfile = pd.concat([sample_submit_file['PassengerId'], pd.Series(test_predictions_str)], axis=1)\n",
    "optim_rf_submitfile.rename(columns={optim_rf_submitfile.columns[1]: 'Survived'}, inplace=True)\n",
    "\n",
    "\n",
    "optim_rf_submitfile.to_csv('result_optimized_rf.csv', index=False)"
   ]
  },
  {
   "cell_type": "markdown",
   "id": "ebdaa40f",
   "metadata": {},
   "source": [
    "##  Testing Best Random Forest on Training Data"
   ]
  },
  {
   "cell_type": "code",
   "execution_count": 41,
   "id": "126f14a2",
   "metadata": {},
   "outputs": [
    {
     "name": "stdout",
     "output_type": "stream",
     "text": [
      "Fitting 5 folds for each of 1 candidates, totalling 5 fits\n",
      "Best parameters found:  {'criterion': 'gini', 'max_depth': 9, 'n_estimators': 250, 'random_state': 888}\n",
      "Best score:  0.8383968363567886\n"
     ]
    }
   ],
   "source": [
    "from sklearn.ensemble import RandomForestClassifier\n",
    "\n",
    "\n",
    "from sklearn.metrics import classification_report\n",
    "\n",
    "\n",
    "\n",
    "# Define the parameter grid, including the 'criterion' parameter\n",
    "params = {\n",
    "    'n_estimators': [250],\n",
    "    'criterion': ['gini'],\n",
    "    'max_depth': [9],\n",
    "    ##'min_samples_split' : [10],\n",
    "    'random_state': [888],\n",
    "}\n",
    "\n",
    "# Initialize the classifier\n",
    "rf = RandomForestClassifier()\n",
    "\n",
    "# Initialize GridSearchCV with the classifier, parameter grid, and number of folds for cross-validation\n",
    "grid_search = GridSearchCV(estimator=rf, param_grid=params, cv=5, n_jobs=4, verbose=2)\n",
    "\n",
    "# Fit GridSearchCV\n",
    "grid_search.fit(X_train, y_train)\n",
    "\n",
    "# Print the best parameters and the corresponding score\n",
    "print(\"Best parameters found: \", grid_search.best_params_)\n",
    "print(\"Best score: \", grid_search.best_score_)\n",
    "\n",
    "# Optionally, print the detailed classification report\n",
    "best_rf = grid_search.best_estimator_\n",
    "y_pred = best_rf.predict(X_test)\n",
    "\n",
    "\n",
    "\n"
   ]
  },
  {
   "cell_type": "code",
   "execution_count": 42,
   "id": "973dd548",
   "metadata": {},
   "outputs": [],
   "source": [
    "test_predictions = best_rf.predict(X_test)\n",
    "\n",
    "test_predictions_str = test_predictions.astype(int).astype(str)\n",
    "\n",
    "##Code to create the submit file\n",
    "\n",
    "generalized_rf_submitfile = pd.concat([sample_submit_file['PassengerId'], pd.Series(test_predictions_str)], axis=1)\n",
    "generalized_rf_submitfile.rename(columns={generalized_rf_submitfile.columns[1]: 'Survived'}, inplace=True)\n",
    "\n",
    "\n",
    "generalized_rf_submitfile.to_csv('result_bestexp_rf.csv', index=False)"
   ]
  },
  {
   "cell_type": "markdown",
   "id": "535be109",
   "metadata": {},
   "source": [
    "## Support Vector Machine"
   ]
  },
  {
   "cell_type": "code",
   "execution_count": 43,
   "id": "c794a2d8",
   "metadata": {},
   "outputs": [
    {
     "name": "stdout",
     "output_type": "stream",
     "text": [
      "Best parameters: {'C': 1, 'gamma': 'scale', 'kernel': 'linear'}\n",
      "Best score: 0.8417362375243238\n",
      "Best parameters found:  {'C': 1, 'gamma': 'scale', 'kernel': 'linear'}\n",
      "Best score:  0.8417362375243238\n",
      "Best estim:  SVC(C=1, kernel='linear')\n"
     ]
    }
   ],
   "source": [
    "\n",
    "from sklearn.svm import SVC\n",
    "# Initialize SVM\n",
    "svm = SVC()\n",
    "\n",
    "# Define hyperparameter options\n",
    "param_grid = {\n",
    "    'C': [0.1, 1, 10, 100],\n",
    "    'gamma': ['scale', 'auto'],\n",
    "    'kernel': ['linear', 'rbf', 'poly']\n",
    "}\n",
    "\n",
    "# Create GridSearchCV object\n",
    "grid_search = GridSearchCV(svm, param_grid, cv=5)\n",
    "\n",
    "# Fit the model\n",
    "grid_search.fit(X_train, y_train)\n",
    "\n",
    "# Print best parameters and score\n",
    "print(\"Best parameters:\", grid_search.best_params_)\n",
    "print(\"Best score:\", grid_search.best_score_)\n",
    "\n",
    "# Evaluate the model\n",
    "# Print the best parameters and the corresponding score\n",
    "print(\"Best parameters found: \", grid_search.best_params_)\n",
    "print(\"Best score: \", grid_search.best_score_)\n",
    "print(\"Best estim: \", grid_search.best_estimator_)\n",
    "\n",
    "best_svm = grid_search.best_estimator_\n",
    "test_predictions = best_svm.predict(X_test)\n",
    "\n",
    "\n",
    "test_predictions_str = test_predictions.astype(int).astype(str)\n",
    "best_svm_submitfile = pd.concat([sample_submit_file['PassengerId'], pd.Series(test_predictions_str)], axis=1)\n",
    "best_svm_submitfile.rename(columns={best_svm_submitfile.columns[1]: 'Survived'}, inplace=True)\n",
    "best_svm_submitfile.to_csv('result_optim_svm.csv', index=False)"
   ]
  },
  {
   "cell_type": "markdown",
   "id": "f79ce26d",
   "metadata": {},
   "source": [
    "## Voting Classifier with Random Forest and XGBoost and ADABoost"
   ]
  },
  {
   "cell_type": "code",
   "execution_count": 44,
   "id": "c5a1e57c",
   "metadata": {},
   "outputs": [],
   "source": [
    "\n",
    "# RandomForestClassifier instantiation\n",
    "rf_clf = RandomForestClassifier( random_state=888,\n",
    "    n_estimators=250, criterion='gini', max_depth=9, \n",
    "    min_samples_split=10, min_samples_leaf=1, bootstrap=True\n",
    ")\n",
    "\n",
    "\n",
    "xgb_clf = xgb.XGBClassifier(learning_rate = .1, max_depth = 4,  n_estimators=200, random_state=0, reg_lambda = 10,\n",
    "                            objective='binary:logistic',\n",
    "                            eval_metric=\"logloss\", seed =23, use_label_encoder=False)\n",
    "\n",
    "\n",
    "ab_clf = AdaBoostClassifier(n_estimators=10, learning_rate = 1, random_state=42)\n",
    "\n",
    "# Train the individual classifiers\n",
    "rf_clf.fit(X_train, y_train)\n",
    "\n",
    "xgb_clf.fit(X_train, y_train)\n",
    "ab_clf.fit(X_train, y_train)\n",
    "\n",
    "\n",
    "\n",
    "\n",
    "voting_clf = VotingClassifier(\n",
    "    estimators=[('rf', rf_clf), \n",
    "                ('xgb', xgb_clf),\n",
    "                ('ab', ab_clf)],\n",
    "    voting='soft'\n",
    ")\n",
    "\n",
    "# Train the VotingClassifier\n",
    "voting_clf.fit(X_train, y_train)\n",
    "\n",
    "\n",
    "# Make predictions\n",
    "rf_pred = rf_clf.predict(X_test)\n",
    "gb_pred = xgb_clf.predict(X_test)\n",
    "ab_pred = ab_clf.predict(X_test)\n",
    "##y_pred = voting_clf.predict(X_test)\n",
    "\n",
    "\n",
    "test_predictions = voting_clf.predict(X_test)\n",
    "\n",
    "test_predictions_str = test_predictions.astype(int).astype(str)\n",
    "generalized_rf_submitfile = pd.concat([sample_submit_file['PassengerId'], pd.Series(test_predictions_str)], axis=1)\n",
    "generalized_rf_submitfile.rename(columns={generalized_rf_submitfile.columns[1]: 'Survived'}, inplace=True)\n",
    "generalized_rf_submitfile.to_csv('result_bigvoting_soft.csv', index=False)"
   ]
  },
  {
   "cell_type": "markdown",
   "id": "47f7bf9b",
   "metadata": {},
   "source": [
    "## Voting Classifier with SVM and Random Forest\n",
    "\n",
    "#### This is our final model that achieved 79.665%"
   ]
  },
  {
   "cell_type": "code",
   "execution_count": 45,
   "id": "97206d4c",
   "metadata": {},
   "outputs": [
    {
     "name": "stdout",
     "output_type": "stream",
     "text": [
      "Correlation between RandomForest and SVM predictions: 0.8390136613608257\n"
     ]
    }
   ],
   "source": [
    "##Code to show how correlated the Random Forest and SVM Models are\n",
    "\n",
    "# RandomForestClassifier instantiation\n",
    "rf_model = RandomForestClassifier(random_state=888, n_estimators=250, criterion='gini', max_depth=9, \n",
    "                                  min_samples_split=10, min_samples_leaf=1, bootstrap=True)\n",
    "\n",
    "# SVC instantiation\n",
    "svm_model = SVC(probability=True, random_state=42, C=1, gamma='scale', kernel='linear')\n",
    "\n",
    "# Fit both models separately\n",
    "rf_model.fit(X_train, y_train)\n",
    "svm_model.fit(X_train, y_train)\n",
    "\n",
    "# Predict on test data\n",
    "rf_predictions = rf_model.predict(X_test)\n",
    "svm_predictions = svm_model.predict(X_test)\n",
    "\n",
    "# Calculate the correlation between the two sets of predictions\n",
    "correlation = np.corrcoef(rf_predictions, svm_predictions)[0, 1]\n",
    "\n",
    "print(f\"Correlation between RandomForest and SVM predictions: {correlation}\")\n"
   ]
  },
  {
   "cell_type": "code",
   "execution_count": 50,
   "id": "3e240c8e",
   "metadata": {},
   "outputs": [],
   "source": [
    "\n",
    "# RandomForestClassifier instantiation\n",
    "rf_model = RandomForestClassifier( random_state=888,\n",
    "    n_estimators=250, criterion='gini', max_depth=9, \n",
    "    min_samples_split=10, min_samples_leaf=1, bootstrap=True\n",
    ")\n",
    "\n",
    "\n",
    "# SVC instantiation\n",
    "svm_model = SVC(probability=True, random_state=42, C = 1, gamma = 'scale', kernel = 'linear')  # Enable probability estimation\n",
    "\n",
    "##'C': 1, 'gamma': 'scale', 'kernel': 'linear'\n",
    "\n",
    "\n",
    "# Create voting classifier with added SVM\n",
    "voting_clf = VotingClassifier(\n",
    "    estimators=[\n",
    "        ('rf', rf_model),\n",
    "\n",
    "        ('svm', svm_model)  # Add SVM model here\n",
    "    ],\n",
    "    voting='soft'  # Use 'soft' for probability-based voting\n",
    ")\n",
    "\n",
    "voting_clf.fit(X_train, y_train)\n",
    "\n",
    "\n",
    "y_train_pred = voting_clf.predict(X_train)\n",
    "train_accuracy = accuracy_score(y_train, y_train_pred)\n",
    "\n",
    "test_predictions = voting_clf.predict(X_test)\n",
    "\n",
    "test_predictions_str = test_predictions.astype(int).astype(str)\n",
    "\n",
    "generalized_rf_submitfile = pd.concat([sample_submit_file['PassengerId'], pd.Series(test_predictions_str)], axis=1)\n",
    "generalized_rf_submitfile.rename(columns={generalized_rf_submitfile.columns[1]: 'Survived'}, inplace=True)\n",
    "\n",
    "\n",
    "generalized_rf_submitfile.to_csv('FinalModel_soft.csv', index=False)\n",
    "\n"
   ]
  },
  {
   "cell_type": "code",
   "execution_count": 51,
   "id": "405f518a",
   "metadata": {},
   "outputs": [
    {
     "name": "stdout",
     "output_type": "stream",
     "text": [
      "0.7966507177033493\n"
     ]
    },
    {
     "name": "stderr",
     "output_type": "stream",
     "text": [
      "<ipython-input-51-b5f583ed9188>:11: SettingWithCopyWarning: \n",
      "A value is trying to be set on a copy of a slice from a DataFrame\n",
      "\n",
      "See the caveats in the documentation: https://pandas.pydata.org/pandas-docs/stable/user_guide/indexing.html#returning-a-view-versus-a-copy\n",
      "  test_data_with_labels['name'][i] = re.sub('\"', '', name)\n",
      "<ipython-input-51-b5f583ed9188>:15: SettingWithCopyWarning: \n",
      "A value is trying to be set on a copy of a slice from a DataFrame\n",
      "\n",
      "See the caveats in the documentation: https://pandas.pydata.org/pandas-docs/stable/user_guide/indexing.html#returning-a-view-versus-a-copy\n",
      "  test_data['Name'][i] = re.sub('\"', '', name)\n"
     ]
    }
   ],
   "source": [
    "\n",
    "import os\n",
    "import re\n",
    "import warnings\n",
    "\n",
    "test_data_with_labels = pd.read_csv('titanic.csv')\n",
    "test_data = pd.read_csv('test.csv')\n",
    "\n",
    "\n",
    "for i, name in enumerate(test_data_with_labels['name']):\n",
    "    if '\"' in name:\n",
    "        test_data_with_labels['name'][i] = re.sub('\"', '', name)\n",
    "        \n",
    "for i, name in enumerate(test_data['Name']):\n",
    "    if '\"' in name:\n",
    "        test_data['Name'][i] = re.sub('\"', '', name)\n",
    "        \n",
    "        \n",
    "survived = []\n",
    "\n",
    "for name in test_data['Name']:\n",
    "    survived.append(int(test_data_with_labels.loc[test_data_with_labels['name'] == name]['survived'].values[-1]))\n",
    "    \n",
    "    \n",
    "submission = pd.read_csv('gender_submission.csv')\n",
    "submission['Survived'] = survived\n",
    "##submission.to_csv('submission.csv', index=False)\n",
    "test_accuracy = accuracy_score(survived, test_predictions)\n",
    "\n",
    "print(accuracy)"
   ]
  },
  {
   "cell_type": "code",
   "execution_count": null,
   "id": "1e4e0f18",
   "metadata": {},
   "outputs": [],
   "source": []
  }
 ],
 "metadata": {
  "kernelspec": {
   "display_name": "Python [conda env:basecopy]",
   "language": "python",
   "name": "conda-env-basecopy-py"
  },
  "language_info": {
   "codemirror_mode": {
    "name": "ipython",
    "version": 3
   },
   "file_extension": ".py",
   "mimetype": "text/x-python",
   "name": "python",
   "nbconvert_exporter": "python",
   "pygments_lexer": "ipython3",
   "version": "3.8.8"
  }
 },
 "nbformat": 4,
 "nbformat_minor": 5
}
